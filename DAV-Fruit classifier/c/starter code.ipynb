{
  "cells": [
    {
      "cell_type": "code",
      "execution_count": 1,
      "metadata": {
        "colab": {
          "base_uri": "https://localhost:8080/"
        },
        "id": "ZCUsz6V5AWVA",
        "outputId": "6ca00001-279b-46ed-f4ba-87963bc14b68"
      },
      "outputs": [
        {
          "name": "stdout",
          "output_type": "stream",
          "text": [
            "Mounted at /content/gdrive\n"
          ]
        }
      ],
      "source": [
        "# mount the google drive\n",
        "from google.colab import drive\n",
        "drive.mount('/content/gdrive')"
      ]
    },
    {
      "cell_type": "code",
      "execution_count": 2,
      "metadata": {
        "id": "bHhEX-wyAQYH"
      },
      "outputs": [],
      "source": [
        "!cp -Rf /content/gdrive/MyDrive/mlp.zip /content/"
      ]
    },
    {
      "cell_type": "code",
      "execution_count": null,
      "metadata": {
        "colab": {
          "base_uri": "https://localhost:8080/"
        },
        "id": "O6RwNjUZAQ99",
        "outputId": "3b7ac647-ceba-42b2-8092-a99571fd94ce"
      },
      "outputs": [],
      "source": [
        "!unzip /content/mlp.zip"
      ]
    },
    {
      "cell_type": "code",
      "execution_count": 4,
      "metadata": {
        "id": "sanqj8YTXe79"
      },
      "outputs": [],
      "source": [
        "from tensorflow import keras\n",
        "from tensorflow.keras.optimizers import Adam\n",
        "from tensorflow.keras.preprocessing.image import ImageDataGenerator\n"
      ]
    },
    {
      "cell_type": "code",
      "execution_count": 5,
      "metadata": {
        "colab": {
          "base_uri": "https://localhost:8080/"
        },
        "id": "FDViwpniXrDM",
        "outputId": "1051b4c4-15b1-4f56-c401-3d95b8b0d409"
      },
      "outputs": [
        {
          "name": "stdout",
          "output_type": "stream",
          "text": [
            "Found 67692 images belonging to 131 classes.\n"
          ]
        }
      ],
      "source": [
        "image_generator = ImageDataGenerator(rescale=1/255)\n",
        "dir_folder = \"/content/mlp/data/train\"\n",
        "batchSize = 32\n",
        "n_epochs = 10\n",
        "train_dataset = image_generator.flow_from_directory(batch_size=32,\n",
        "                                                    directory=dir_folder,\n",
        "                                                    shuffle=True,\n",
        "                                                    target_size=(100, 100),\n",
        "                                                    subset=\"training\",\n",
        "                                                    class_mode='categorical')\n",
        "\n",
        "# validation_dataset = image_generator.flow_from_directory(batch_size=32,\n",
        "#                                                          directory=dir_folder,\n",
        "#                                                          shuffle=True,\n",
        "#                                                          target_size=(\n",
        "#                                                              100, 100),\n",
        "#                                                          subset=\"validation\",\n",
        "#                                                          class_mode='categorical')\n"
      ]
    },
    {
      "cell_type": "code",
      "execution_count": 6,
      "metadata": {
        "colab": {
          "base_uri": "https://localhost:8080/"
        },
        "id": "lt_JAV_GXtvs",
        "outputId": "3d497cc5-c551-4e9f-b268-1d8d0eaf667c"
      },
      "outputs": [
        {
          "name": "stderr",
          "output_type": "stream",
          "text": [
            "/usr/local/lib/python3.7/dist-packages/keras/optimizer_v2/adam.py:105: UserWarning: The `lr` argument is deprecated, use `learning_rate` instead.\n",
            "  super(Adam, self).__init__(name, **kwargs)\n"
          ]
        }
      ],
      "source": [
        "model_ann = keras.Sequential([keras.layers.Flatten(input_shape=((100, 100, 3))),\n",
        "                              # Use appropriate values\n",
        "                              keras.layers.Dense(12, input_shape=(\n",
        "                                  30000,), activation='relu'),\n",
        "                              keras.layers.Dense(12, activation='relu'),\n",
        "                              keras.layers.Dense(131, activation='softmax')])  # 131 is no. of dimensions in the output layer\n",
        "\n",
        "# Use the appropriate optimizer (gradient descent), loss function and metrics for evaluating classification accuracy\n",
        "model_ann.compile(optimizer=Adam(lr=0.001),\n",
        "                  loss='categorical_crossentropy', metrics=['accuracy'])"
      ]
    },
    {
      "cell_type": "code",
      "execution_count": 7,
      "metadata": {
        "colab": {
          "base_uri": "https://localhost:8080/"
        },
        "id": "hU8Tke3UXypI",
        "outputId": "00cdde81-ea6e-42e0-8699-eaccfa9b26fc"
      },
      "outputs": [
        {
          "name": "stdout",
          "output_type": "stream",
          "text": [
            "Model: \"sequential\"\n",
            "_________________________________________________________________\n",
            " Layer (type)                Output Shape              Param #   \n",
            "=================================================================\n",
            " flatten (Flatten)           (None, 30000)             0         \n",
            "                                                                 \n",
            " dense (Dense)               (None, 12)                360012    \n",
            "                                                                 \n",
            " dense_1 (Dense)             (None, 12)                156       \n",
            "                                                                 \n",
            " dense_2 (Dense)             (None, 131)               1703      \n",
            "                                                                 \n",
            "=================================================================\n",
            "Total params: 361,871\n",
            "Trainable params: 361,871\n",
            "Non-trainable params: 0\n",
            "_________________________________________________________________\n"
          ]
        }
      ],
      "source": [
        "model_ann.summary()"
      ]
    },
    {
      "cell_type": "code",
      "execution_count": 8,
      "metadata": {
        "colab": {
          "base_uri": "https://localhost:8080/"
        },
        "id": "wh-BNR5uXzeq",
        "outputId": "36f0e747-c795-4ba1-9a48-ec2459fa6f72"
      },
      "outputs": [
        {
          "name": "stderr",
          "output_type": "stream",
          "text": [
            "/usr/local/lib/python3.7/dist-packages/ipykernel_launcher.py:6: UserWarning: `Model.fit_generator` is deprecated and will be removed in a future version. Please use `Model.fit`, which supports generators.\n",
            "  \n"
          ]
        },
        {
          "name": "stdout",
          "output_type": "stream",
          "text": [
            "Epoch 1/10\n",
            "2115/2115 [==============================] - 50s 23ms/step - loss: 4.8663 - accuracy: 0.0137\n",
            "Epoch 2/10\n",
            "2115/2115 [==============================] - 46s 22ms/step - loss: 4.8574 - accuracy: 0.0145\n",
            "Epoch 3/10\n",
            "2115/2115 [==============================] - 47s 22ms/step - loss: 4.8565 - accuracy: 0.0145\n",
            "Epoch 4/10\n",
            "2115/2115 [==============================] - 47s 22ms/step - loss: 4.8564 - accuracy: 0.0145\n",
            "Epoch 5/10\n",
            "2115/2115 [==============================] - 48s 23ms/step - loss: 4.8564 - accuracy: 0.0145\n",
            "Epoch 6/10\n",
            "2115/2115 [==============================] - 50s 24ms/step - loss: 4.8564 - accuracy: 0.0145\n",
            "Epoch 7/10\n",
            "2115/2115 [==============================] - 51s 24ms/step - loss: 4.8564 - accuracy: 0.0145\n",
            "Epoch 8/10\n",
            "2115/2115 [==============================] - 49s 23ms/step - loss: 4.8565 - accuracy: 0.0145\n",
            "Epoch 9/10\n",
            "2115/2115 [==============================] - 47s 22ms/step - loss: 4.8564 - accuracy: 0.0145\n",
            "Epoch 10/10\n",
            "2115/2115 [==============================] - 47s 22ms/step - loss: 4.8564 - accuracy: 0.0145\n"
          ]
        },
        {
          "data": {
            "text/plain": [
              "<keras.callbacks.History at 0x7f1ca03bf750>"
            ]
          },
          "execution_count": 8,
          "metadata": {},
          "output_type": "execute_result"
        }
      ],
      "source": [
        "model_ann.fit_generator(\n",
        "    train_dataset,\n",
        "    steps_per_epoch=train_dataset.samples // batchSize,\n",
        "    # validation_data=validation_dataset,\n",
        "    # validation_steps=validation_dataset.samples // batchSize,\n",
        "    epochs=n_epochs)"
      ]
    },
    {
      "cell_type": "code",
      "execution_count": 9,
      "metadata": {
        "colab": {
          "base_uri": "https://localhost:8080/"
        },
        "id": "fRxa4TtvfUQ3",
        "outputId": "edf57124-e2fc-4f39-fbe7-264cecf3ba10"
      },
      "outputs": [
        {
          "name": "stdout",
          "output_type": "stream",
          "text": [
            "Found 22688 images belonging to 131 classes.\n"
          ]
        }
      ],
      "source": [
        "test_datagen = ImageDataGenerator(rescale=1./255)\n",
        "\n",
        "test_generator = test_datagen.flow_from_directory(\n",
        "        '/content/mlp/data/test',\n",
        "        target_size=(100, 100),\n",
        "        color_mode=\"rgb\",\n",
        "        shuffle = False,\n",
        "        class_mode='categorical',\n",
        "        batch_size=1)\n"
      ]
    },
    {
      "cell_type": "code",
      "execution_count": 10,
      "metadata": {
        "id": "WLBS19XZfbgC"
      },
      "outputs": [],
      "source": [
        "filenames = test_generator.filenames\n",
        "nb_samples = len(filenames)"
      ]
    },
    {
      "cell_type": "code",
      "execution_count": 12,
      "metadata": {
        "colab": {
          "base_uri": "https://localhost:8080/"
        },
        "id": "vb5xaQOdh9Vs",
        "outputId": "3dfb57ee-46c4-4c29-b4da-f8115e2c2864"
      },
      "outputs": [
        {
          "name": "stderr",
          "output_type": "stream",
          "text": [
            "/usr/local/lib/python3.7/dist-packages/ipykernel_launcher.py:1: UserWarning: `Model.evaluate_generator` is deprecated and will be removed in a future version. Please use `Model.evaluate`, which supports generators.\n",
            "  \"\"\"Entry point for launching an IPython kernel.\n"
          ]
        },
        {
          "name": "stdout",
          "output_type": "stream",
          "text": [
            "Accuracy of the model is: 1.4456981793045998\n"
          ]
        }
      ],
      "source": [
        "loss, acc= model_ann.evaluate_generator(test_generator, steps=nb_samples, verbose=0)\n",
        "print(f\"Accuracy of the model is: {acc*100}\")"
      ]
    }
  ],
  "metadata": {
    "accelerator": "GPU",
    "colab": {
      "collapsed_sections": [],
      "name": "Fruit360.ipynb",
      "provenance": []
    },
    "kernelspec": {
      "display_name": "Python 3",
      "name": "python3"
    },
    "language_info": {
      "name": "python"
    }
  },
  "nbformat": 4,
  "nbformat_minor": 0
}
