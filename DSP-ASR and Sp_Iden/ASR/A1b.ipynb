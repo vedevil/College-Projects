{
 "cells": [
  {
   "cell_type": "markdown",
   "id": "01cea7a0",
   "metadata": {},
   "source": [
    "# Use  Bayes theorem to compute the performance of vowel classification"
   ]
  },
  {
   "cell_type": "code",
   "execution_count": 7,
   "id": "f74ceaa4",
   "metadata": {},
   "outputs": [],
   "source": [
    "from mat4py import loadmat\n",
    "import numpy as np\n",
    "data = loadmat('data.mat')\n",
    "vowel_map={0:'a',1:'e',2:'i',3:'u'}\n",
    "whole_set=[]\n",
    "labels=[]\n",
    "mus=[]\n",
    "cs=[]\n",
    "prior_prob=[]\n",
    "for i in range(4):\n",
    "    l=len(data['vowels'][i]['training'])\n",
    "    prior_prob.append(l)\n",
    "    labels.extend([vowel_map[i]]*l)\n",
    "    for j in range(l):\n",
    "        l=list(data['vowels'][i]['training'][j])\n",
    "        whole_set.append(l)\n",
    "    x=np.array(data['vowels'][i]['training'])[:,0]\n",
    "    y=np.array(data['vowels'][i]['training'])[:,1]\n",
    "    mu=np.array(data['vowels'][i]['training']).mean(axis=0)\n",
    "    covariance= np.cov(x,y)\n",
    "    mus.append(mu)\n",
    "    cs.append(covariance)"
   ]
  },
  {
   "cell_type": "code",
   "execution_count": 8,
   "id": "9dd70185",
   "metadata": {},
   "outputs": [],
   "source": [
    "total=sum(prior_prob)\n",
    "for i in range(4):\n",
    "    prior_prob[i]=prior_prob[i]/total\n",
    "    "
   ]
  },
  {
   "cell_type": "code",
   "execution_count": 9,
   "id": "ed2ad434",
   "metadata": {},
   "outputs": [],
   "source": [
    "import numpy as np\n",
    "import pandas as pd\n",
    "from matplotlib import pyplot as plt\n",
    "from mpl_toolkits.mplot3d import Axes3D\n",
    "from mpl_toolkits import mplot3d\n",
    "from sklearn import linear_model\n",
    "\n",
    "%matplotlib inline\n",
    "plt.style.use('seaborn-white')"
   ]
  },
  {
   "cell_type": "code",
   "execution_count": 10,
   "id": "c09af504",
   "metadata": {},
   "outputs": [],
   "source": [
    "def multivariate_gaussian_pdf(X,MU,SIGMA):\n",
    "    '''Returns the pdf of a nultivariate gaussian distribution\n",
    "     - X, MU are p x 1 vectors\n",
    "     - SIGMA is a p x p matrix'''\n",
    "    #Initialize and reshape\n",
    "    X = X.reshape(-1,1)\n",
    "    MU = MU.reshape(-1,1)\n",
    "    p,_ = SIGMA.shape\n",
    "\n",
    "    #Compute values\n",
    "    SIGMA_inv = np.linalg.inv(SIGMA)\n",
    "    denominator = np.sqrt((2 * np.pi)**p * np.linalg.det(SIGMA))\n",
    "    exponent = -(1/2) * ((X - MU).T @ SIGMA_inv @ (X - MU))\n",
    "    \n",
    "    #Return result\n",
    "    return float((1. / denominator) * np.exp(exponent) )   "
   ]
  },
  {
   "cell_type": "markdown",
   "id": "eb0e894f",
   "metadata": {},
   "source": [
    "### Split 1:Train 67%, Test 33%"
   ]
  },
  {
   "cell_type": "code",
   "execution_count": 11,
   "id": "70641928",
   "metadata": {},
   "outputs": [],
   "source": [
    "from sklearn.model_selection import train_test_split\n",
    "X_train, X_test, y_train, y_test = train_test_split(whole_set, labels, train_size=0.67)\n",
    "X_test=np.array(X_test)"
   ]
  },
  {
   "cell_type": "markdown",
   "id": "9e7dc94c",
   "metadata": {},
   "source": [
    "#### Assuming prior prabability same for all class i.e., 1/4"
   ]
  },
  {
   "cell_type": "code",
   "execution_count": 12,
   "id": "c6478746",
   "metadata": {},
   "outputs": [],
   "source": [
    "y_pred=[]\n",
    "for x in X_test:\n",
    "    values=[]\n",
    "    for j in range(4):\n",
    "        v=multivariate_gaussian_pdf(x,mus[j],cs[j])\n",
    "        values.append(v)\n",
    "        if j ==3:\n",
    "            values=np.array(values)\n",
    "            idx = np.argmax(values)\n",
    "            y_pred.append(vowel_map[idx])"
   ]
  },
  {
   "cell_type": "markdown",
   "id": "59083d1c",
   "metadata": {},
   "source": [
    "## Evaluating the model"
   ]
  },
  {
   "cell_type": "markdown",
   "id": "1937b520",
   "metadata": {},
   "source": [
    "#### Accuracy"
   ]
  },
  {
   "cell_type": "code",
   "execution_count": 13,
   "id": "8294f451",
   "metadata": {},
   "outputs": [
    {
     "name": "stdout",
     "output_type": "stream",
     "text": [
      "0.9786363636363636\n"
     ]
    }
   ],
   "source": [
    "import sklearn.metrics\n",
    "acc = sklearn.metrics.accuracy_score(y_test, y_pred)\n",
    "print(acc)"
   ]
  },
  {
   "cell_type": "markdown",
   "id": "96acb92d",
   "metadata": {},
   "source": [
    "#### Report-Precision, recall, f1 score"
   ]
  },
  {
   "cell_type": "code",
   "execution_count": 14,
   "id": "8b85a145",
   "metadata": {},
   "outputs": [
    {
     "name": "stdout",
     "output_type": "stream",
     "text": [
      "              precision    recall  f1-score   support\n",
      "\n",
      "           a       0.94      0.95      0.95       978\n",
      "           e       1.00      0.99      0.99      2613\n",
      "           i       0.95      0.97      0.96      1002\n",
      "           u       0.99      0.98      0.99      2007\n",
      "\n",
      "    accuracy                           0.98      6600\n",
      "   macro avg       0.97      0.97      0.97      6600\n",
      "weighted avg       0.98      0.98      0.98      6600\n",
      "\n"
     ]
    }
   ],
   "source": [
    "vowel_list=list(vowel_map.values())\n",
    "cr=sklearn.metrics.classification_report(y_test, y_pred, target_names=vowel_list)\n",
    "print(cr)\n"
   ]
  },
  {
   "cell_type": "markdown",
   "id": "f1ba6766",
   "metadata": {},
   "source": [
    "#### Assuming prior prabability of kth class= No of samples in class k/Total no of of samples"
   ]
  },
  {
   "cell_type": "code",
   "execution_count": 15,
   "id": "037980a2",
   "metadata": {},
   "outputs": [],
   "source": [
    "y_pred=[]\n",
    "for x in X_test:\n",
    "    values=[]\n",
    "    for j in range(4):\n",
    "        v=multivariate_gaussian_pdf(x,mus[j],cs[j])\n",
    "        values.append(v*prior_prob[j])\n",
    "        if j ==3:\n",
    "            values=np.array(values)\n",
    "            idx = np.argmax(values)\n",
    "            y_pred.append(vowel_map[idx])"
   ]
  },
  {
   "cell_type": "markdown",
   "id": "9837d390",
   "metadata": {},
   "source": [
    "## Evaluating the model"
   ]
  },
  {
   "cell_type": "markdown",
   "id": "3755e74a",
   "metadata": {},
   "source": [
    "#### Accuracy"
   ]
  },
  {
   "cell_type": "code",
   "execution_count": 16,
   "id": "179582c6",
   "metadata": {},
   "outputs": [
    {
     "name": "stdout",
     "output_type": "stream",
     "text": [
      "0.9807575757575757\n"
     ]
    }
   ],
   "source": [
    "acc = sklearn.metrics.accuracy_score(y_test, y_pred)\n",
    "print(acc)"
   ]
  },
  {
   "cell_type": "markdown",
   "id": "8996fa5d",
   "metadata": {},
   "source": [
    "#### Report-Precision, recall, f1 score"
   ]
  },
  {
   "cell_type": "code",
   "execution_count": 17,
   "id": "1c478b02",
   "metadata": {},
   "outputs": [
    {
     "name": "stdout",
     "output_type": "stream",
     "text": [
      "              precision    recall  f1-score   support\n",
      "\n",
      "           a       0.95      0.95      0.95       978\n",
      "           e       1.00      0.99      0.99      2613\n",
      "           i       0.96      0.96      0.96      1002\n",
      "           u       0.99      0.99      0.99      2007\n",
      "\n",
      "    accuracy                           0.98      6600\n",
      "   macro avg       0.97      0.97      0.97      6600\n",
      "weighted avg       0.98      0.98      0.98      6600\n",
      "\n"
     ]
    }
   ],
   "source": [
    "vowel_list=list(vowel_map.values())\n",
    "cr=sklearn.metrics.classification_report(y_test, y_pred, target_names=vowel_list)\n",
    "print(cr)"
   ]
  },
  {
   "cell_type": "markdown",
   "id": "1e2b788e",
   "metadata": {},
   "source": [
    "### Split 2:Train 80%, Test 20%"
   ]
  },
  {
   "cell_type": "code",
   "execution_count": 18,
   "id": "4e9378dc",
   "metadata": {},
   "outputs": [],
   "source": [
    "X_train, X_test, y_train, y_test = train_test_split(whole_set, labels, train_size=0.8)\n",
    "X_test=np.array(X_test)"
   ]
  },
  {
   "cell_type": "markdown",
   "id": "568d8ff6",
   "metadata": {},
   "source": [
    "#### Assuming prior prabability same for all class i.e., 1/4"
   ]
  },
  {
   "cell_type": "code",
   "execution_count": 19,
   "id": "ca7342df",
   "metadata": {},
   "outputs": [],
   "source": [
    "y_pred=[]\n",
    "for x in X_test:\n",
    "    values=[]\n",
    "    for j in range(4):\n",
    "        v=multivariate_gaussian_pdf(x,mus[j],cs[j])\n",
    "        values.append(v)\n",
    "        if j ==3:\n",
    "            values=np.array(values)\n",
    "            idx = np.argmax(values)\n",
    "            y_pred.append(vowel_map[idx])"
   ]
  },
  {
   "cell_type": "markdown",
   "id": "b8eefc4a",
   "metadata": {},
   "source": [
    "## Evaluating the model"
   ]
  },
  {
   "cell_type": "markdown",
   "id": "2bc2b6e9",
   "metadata": {},
   "source": [
    "#### Accuracy"
   ]
  },
  {
   "cell_type": "code",
   "execution_count": 20,
   "id": "ec786922",
   "metadata": {},
   "outputs": [
    {
     "name": "stdout",
     "output_type": "stream",
     "text": [
      "0.9805\n"
     ]
    }
   ],
   "source": [
    "acc = sklearn.metrics.accuracy_score(y_test, y_pred)\n",
    "print(acc)"
   ]
  },
  {
   "cell_type": "markdown",
   "id": "74c4e33a",
   "metadata": {},
   "source": [
    "#### Report-Precision, recall, f1 score"
   ]
  },
  {
   "cell_type": "code",
   "execution_count": 21,
   "id": "19c10d5c",
   "metadata": {},
   "outputs": [
    {
     "name": "stdout",
     "output_type": "stream",
     "text": [
      "              precision    recall  f1-score   support\n",
      "\n",
      "           a       0.95      0.95      0.95       614\n",
      "           e       1.00      0.99      1.00      1609\n",
      "           i       0.94      0.98      0.96       562\n",
      "           u       0.99      0.98      0.99      1215\n",
      "\n",
      "    accuracy                           0.98      4000\n",
      "   macro avg       0.97      0.98      0.97      4000\n",
      "weighted avg       0.98      0.98      0.98      4000\n",
      "\n"
     ]
    }
   ],
   "source": [
    "cr=sklearn.metrics.classification_report(y_test, y_pred, target_names=vowel_list)\n",
    "print(cr)"
   ]
  },
  {
   "cell_type": "markdown",
   "id": "3c4fd8af",
   "metadata": {},
   "source": [
    "#### Assuming prior prabability of kth class= No of samples in class k/Total no of of samples"
   ]
  },
  {
   "cell_type": "code",
   "execution_count": 22,
   "id": "9ab47351",
   "metadata": {},
   "outputs": [],
   "source": [
    "y_pred=[]\n",
    "for x in X_test:\n",
    "    values=[]\n",
    "    for j in range(4):\n",
    "        v=multivariate_gaussian_pdf(x,mus[j],cs[j])\n",
    "        values.append(v*prior_prob[j])\n",
    "        if j ==3:\n",
    "            values=np.array(values)\n",
    "            idx = np.argmax(values)\n",
    "            y_pred.append(vowel_map[idx])"
   ]
  },
  {
   "cell_type": "markdown",
   "id": "cf32f482",
   "metadata": {},
   "source": [
    "### Evaluating the model"
   ]
  },
  {
   "cell_type": "markdown",
   "id": "5781e773",
   "metadata": {},
   "source": [
    "#### Accuracy"
   ]
  },
  {
   "cell_type": "code",
   "execution_count": 23,
   "id": "e314df87",
   "metadata": {},
   "outputs": [
    {
     "name": "stdout",
     "output_type": "stream",
     "text": [
      "0.9795\n"
     ]
    }
   ],
   "source": [
    "acc = sklearn.metrics.accuracy_score(y_test, y_pred)\n",
    "print(acc)"
   ]
  },
  {
   "cell_type": "markdown",
   "id": "053e68e6",
   "metadata": {},
   "source": [
    "#### Report-Precision, recall, f1 score"
   ]
  },
  {
   "cell_type": "code",
   "execution_count": 24,
   "id": "e9b5a90a",
   "metadata": {},
   "outputs": [
    {
     "name": "stdout",
     "output_type": "stream",
     "text": [
      "              precision    recall  f1-score   support\n",
      "\n",
      "           a       0.96      0.94      0.95       614\n",
      "           e       1.00      0.99      0.99      1609\n",
      "           i       0.95      0.96      0.96       562\n",
      "           u       0.98      0.99      0.98      1215\n",
      "\n",
      "    accuracy                           0.98      4000\n",
      "   macro avg       0.97      0.97      0.97      4000\n",
      "weighted avg       0.98      0.98      0.98      4000\n",
      "\n"
     ]
    }
   ],
   "source": [
    "vowel_list=list(vowel_map.values())\n",
    "cr=sklearn.metrics.classification_report(y_test, y_pred, target_names=vowel_list)\n",
    "print(cr)"
   ]
  }
 ],
 "metadata": {
  "kernelspec": {
   "display_name": "Python 3 (ipykernel)",
   "language": "python",
   "name": "python3"
  },
  "language_info": {
   "codemirror_mode": {
    "name": "ipython",
    "version": 3
   },
   "file_extension": ".py",
   "mimetype": "text/x-python",
   "name": "python",
   "nbconvert_exporter": "python",
   "pygments_lexer": "ipython3",
   "version": "3.10.2"
  }
 },
 "nbformat": 4,
 "nbformat_minor": 5
}
