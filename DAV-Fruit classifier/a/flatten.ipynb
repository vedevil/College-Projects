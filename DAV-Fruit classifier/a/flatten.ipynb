{
 "cells": [
  {
   "cell_type": "markdown",
   "metadata": {},
   "source": [
    "#### **what we have done**\n",
    "1. **First we take a category say apple, then take every image and flatten it and take mean of it.**\n",
    "2. **Then we take mean over all image means. which gives the single point representing the apple category**\n",
    "3. **The same way we calculate sigle point for all categories.**\n",
    "4. **While testing, we take sample image, flatten it, take mean of all array values and this gives the representig point of that test image.**\n",
    "5. **Now we calculate how far this test image value is from already calculated category points.**\n",
    "6. **The minimum distance with one of the categories determines that test image belongs to that category.** "
   ]
  },
  {
   "cell_type": "code",
   "execution_count": 1,
   "metadata": {},
   "outputs": [
    {
     "name": "stdout",
     "output_type": "stream",
     "text": [
      "The history saving thread hit an unexpected error (OperationalError('database is locked')).History will not be written to the database.\n"
     ]
    }
   ],
   "source": [
    "import os\n",
    "import cv2\n",
    "from matplotlib import pyplot as plt\n",
    "import numpy as np\n"
   ]
  },
  {
   "cell_type": "code",
   "execution_count": 2,
   "metadata": {},
   "outputs": [],
   "source": [
    "folder_url = \"/home/yaadava_kishore/Desktop/Data_Analytics_1_b/Fruit-Images-Dataset/Training\"\n",
    "files_list = {}\n",
    "for i in os.listdir(folder_url):\n",
    "    files_list[f\"{os.path.join(folder_url,i)}\"] = os.listdir(os.path.join(folder_url,i))\n",
    "# print(files_list)"
   ]
  },
  {
   "cell_type": "code",
   "execution_count": 3,
   "metadata": {},
   "outputs": [],
   "source": [
    "flatten = {}\n",
    "for dir_path, files in files_list.items():\n",
    "    img_arr = []\n",
    "    for file in files:\n",
    "        img = cv2.imread(os.path.join(dir_path, file))\n",
    "        img_arr.append(img.flatten().mean())\n",
    "    flatten[dir_path.split(\"/\")[-1]] = img_arr\n"
   ]
  },
  {
   "cell_type": "code",
   "execution_count": 4,
   "metadata": {},
   "outputs": [],
   "source": [
    "final_arr={}\n",
    "for cat,arr in flatten.items():\n",
    "    final_arr[cat]=np.array(arr).mean()"
   ]
  },
  {
   "cell_type": "code",
   "execution_count": 5,
   "metadata": {},
   "outputs": [
    {
     "data": {
      "text/plain": [
       "dict_values([162.91517250712252, 152.63095745257453, 137.66698150406503, 154.77935754290877, 119.51206531165312, 168.6743368027211, 155.56993149659866, 112.52547215447156, 169.7716358926342, 129.28019180555555, 146.5793106122449, 159.04027228464423, 162.1299089802131, 145.0976136178862, 165.04065405982902, 178.08839762872628, 109.81038503827418, 152.05936137339057, 200.12357897959183, 185.0572851020408, 187.05421503401362, 129.93223292517007, 145.41320625850338, 89.12784857723575, 170.4848075575576, 148.15722866666664, 220.64035144300144, 117.27691759259258, 127.67776029810298, 153.84854557678696, 134.13672331002329, 134.18823672086722, 126.13419366666666, 136.15712369901544, 155.30806544962815, 187.42752581369248, 154.16053879855465, 129.48751103703705, 118.26858311688311, 150.69278000000003, 133.04374554093565, 146.70196619241193, 127.03777333333333, 139.2380240265907, 171.69961118518518, 91.34652513550135, 128.34014051490516, 164.63119768707483, 167.2426434142752, 196.68451285714286, 152.92640733197555, 107.71600287524367, 162.79742615176153, 163.10052965986395, 142.18008027210885, 117.03435943992774, 131.061282585034, 168.62187208672088, 159.55712716802168, 198.71717933604336, 161.00178098464318, 141.8055638211382, 180.93043414814815, 127.91297693006359, 103.66202054026503, 154.8413151020408, 113.49529193205944, 193.7389510162602, 132.95125975609756, 132.94657892953927, 115.57302791327913, 126.58784839968774, 186.1251818367347, 157.61937265306122, 192.35532011494251, 137.89584108843536, 172.9120574829932, 163.4193358649789, 169.59674437669378, 161.88775379403796, 128.03627986394557, 176.2770098518519, 170.70657344173443, 141.03722597109305, 171.4098974829932, 85.5995955284553, 123.16061043841336, 176.95945278911563, 177.95261945578233, 194.12739094827586, 144.42508963414636, 165.37216448979592, 134.31460544444445, 152.44967551942187, 151.10295642105265, 111.50621681681682, 130.34756937669377, 152.44758011088012, 163.3655611788618, 178.2963671851852, 170.776299829932, 164.70886782312925, 173.24118904761906, 139.41190725725724, 147.5059074074074, 208.25547481481482, 145.22718074829933, 153.49366163265307, 151.32510927579364, 99.24003706349208, 190.18857489795917, 174.99818972789114, 127.37424031165311, 84.32306727642276, 130.70152581300812, 191.2812360544218, 214.55988844444445, 167.21289430555558, 132.32619935515874, 206.4651110884354, 151.02381597676109, 123.15447558685445, 106.24406223723722, 188.47041183673468, 188.22796727642276, 180.78718376068377, 111.0141259009009, 192.89649857142857, 146.57561362962963, 96.94109463087247, 143.0652558879392])"
      ]
     },
     "execution_count": 5,
     "metadata": {},
     "output_type": "execute_result"
    }
   ],
   "source": [
    "final_arr.values()"
   ]
  },
  {
   "cell_type": "code",
   "execution_count": 6,
   "metadata": {},
   "outputs": [
    {
     "data": {
      "text/plain": [
       "<matplotlib.collections.PathCollection at 0x7fa75e8a95e0>"
      ]
     },
     "execution_count": 6,
     "metadata": {},
     "output_type": "execute_result"
    },
    {
     "data": {
      "image/png": "[encoded data removed]",
      "text/plain": [
       "<Figure size 432x288 with 1 Axes>"
      ]
     },
     "metadata": {},
     "output_type": "display_data"
    }
   ],
   "source": [
    "plt.scatter(final_arr.keys(), final_arr.values())\n",
    "# we can see how closer the values are..."
   ]
  },
  {
   "cell_type": "markdown",
   "metadata": {},
   "source": [
    "#### **Testing**"
   ]
  },
  {
   "cell_type": "code",
   "execution_count": 7,
   "metadata": {},
   "outputs": [],
   "source": [
    "test_folder_url = \"/home/yaadava_kishore/Desktop/Data_Analytics_1_b/Fruit-Images-Dataset/Test\"\n",
    "test_files_list = {}\n",
    "for i in os.listdir(test_folder_url):\n",
    "    test_files_list[f\"{os.path.join(test_folder_url,i)}\"] = os.listdir(os.path.join(test_folder_url,i))"
   ]
  },
  {
   "cell_type": "code",
   "execution_count": 8,
   "metadata": {},
   "outputs": [],
   "source": [
    "flatten_test = {}\n",
    "for dir_path, files in test_files_list.items():\n",
    "    img_arr_test = []\n",
    "    for file in files:\n",
    "        img = cv2.imread(os.path.join(dir_path, file))\n",
    "        img_arr_test.append(img.flatten().mean())\n",
    "    flatten_test[dir_path.split(\"/\")[-1]] = img_arr_test"
   ]
  },
  {
   "cell_type": "code",
   "execution_count": 9,
   "metadata": {},
   "outputs": [],
   "source": [
    "# import copy\n",
    "# fla = copy.deepcopy(flatten_test)"
   ]
  },
  {
   "cell_type": "code",
   "execution_count": 10,
   "metadata": {},
   "outputs": [],
   "source": [
    "fla={}\n",
    "comp = np.round(list(final_arr.values()), decimals=3)\n",
    "fold = np.array(list(final_arr.keys()))\n",
    "for cat, vals in flatten_test.items():\n",
    "    predicted = []\n",
    "    np.round_(vals, decimals=3)\n",
    "    for val in vals:\n",
    "        idx = np.argmin(np.abs(comp-val))\n",
    "        predicted.append(fold[idx])\n",
    "    fla[cat] = predicted\n"
   ]
  },
  {
   "cell_type": "code",
   "execution_count": 11,
   "metadata": {},
   "outputs": [
    {
     "name": "stdout",
     "output_type": "stream",
     "text": [
      "total test_samples 234  of  Cauliflower\n",
      "main category:  Cauliflower , total_different_types:  34 , correctly_predicted:  2\n",
      "total test_samples 164  of  Apple Granny Smith\n",
      "main category:  Apple Granny Smith , total_different_types:  21 , correctly_predicted:  0\n",
      "total test_samples 164  of  Rambutan\n",
      "main category:  Rambutan , total_different_types:  45 , correctly_predicted:  0\n",
      "total test_samples 246  of  Cherry Rainier\n",
      "main category:  Cherry Rainier , total_different_types:  37 , correctly_predicted:  1\n",
      "total test_samples 164  of  Nectarine\n",
      "main category:  Nectarine , total_different_types:  34 , correctly_predicted:  10\n",
      "total test_samples 166  of  Kaki\n",
      "main category:  Kaki , total_different_types:  38 , correctly_predicted:  2\n",
      "total test_samples 166  of  Raspberry\n",
      "main category:  Raspberry , total_different_types:  26 , correctly_predicted:  7\n",
      "total test_samples 164  of  Pomegranate\n",
      "main category:  Pomegranate , total_different_types:  37 , correctly_predicted:  7\n",
      "total test_samples 178  of  Nut Pecan\n",
      "main category:  Nut Pecan , total_different_types:  67 , correctly_predicted:  4\n",
      "total test_samples 160  of  Nectarine Flat\n",
      "main category:  Nectarine Flat , total_different_types:  27 , correctly_predicted:  3\n",
      "total test_samples 166  of  Cocos\n",
      "main category:  Cocos , total_different_types:  38 , correctly_predicted:  5\n",
      "total test_samples 155  of  Onion Red Peeled\n",
      "main category:  Onion Red Peeled , total_different_types:  40 , correctly_predicted:  0\n",
      "total test_samples 146  of  Onion White\n",
      "main category:  Onion White , total_different_types:  40 , correctly_predicted:  6\n",
      "total test_samples 164  of  Papaya\n",
      "main category:  Papaya , total_different_types:  50 , correctly_predicted:  0\n",
      "total test_samples 156  of  Cucumber Ripe 2\n",
      "main category:  Cucumber Ripe 2 , total_different_types:  35 , correctly_predicted:  0\n",
      "total test_samples 164  of  Apple Golden 2\n",
      "main category:  Apple Golden 2 , total_different_types:  24 , correctly_predicted:  0\n",
      "total test_samples 160  of  Tomato 4\n",
      "main category:  Tomato 4 , total_different_types:  9 , correctly_predicted:  39\n",
      "total test_samples 156  of  Kiwi\n",
      "main category:  Kiwi , total_different_types:  37 , correctly_predicted:  0\n",
      "total test_samples 166  of  Pepino\n",
      "main category:  Pepino , total_different_types:  26 , correctly_predicted:  2\n",
      "total test_samples 166  of  Quince\n",
      "main category:  Quince , total_different_types:  9 , correctly_predicted:  0\n",
      "total test_samples 166  of  Kumquats\n",
      "main category:  Kumquats , total_different_types:  23 , correctly_predicted:  3\n",
      "total test_samples 166  of  Apple Red Delicious\n",
      "main category:  Apple Red Delicious , total_different_types:  26 , correctly_predicted:  1\n",
      "total test_samples 166  of  Passion Fruit\n",
      "main category:  Passion Fruit , total_different_types:  26 , correctly_predicted:  1\n",
      "total test_samples 164  of  Cherry 1\n",
      "main category:  Cherry 1 , total_different_types:  7 , correctly_predicted:  10\n",
      "total test_samples 222  of  Pear Red\n",
      "main category:  Pear Red , total_different_types:  50 , correctly_predicted:  0\n",
      "total test_samples 153  of  Pomelo Sweetie\n",
      "main category:  Pomelo Sweetie , total_different_types:  43 , correctly_predicted:  5\n",
      "total test_samples 154  of  Corn Husk\n",
      "main category:  Corn Husk , total_different_types:  41 , correctly_predicted:  78\n",
      "total test_samples 304  of  Plum 3\n",
      "main category:  Plum 3 , total_different_types:  54 , correctly_predicted:  4\n",
      "total test_samples 164  of  Grape Pink\n",
      "main category:  Grape Pink , total_different_types:  22 , correctly_predicted:  0\n",
      "total test_samples 157  of  Kohlrabi\n",
      "main category:  Kohlrabi , total_different_types:  41 , correctly_predicted:  0\n",
      "total test_samples 144  of  Apple Red 3\n",
      "main category:  Apple Red 3 , total_different_types:  13 , correctly_predicted:  0\n",
      "total test_samples 164  of  Apple Red 2\n",
      "main category:  Apple Red 2 , total_different_types:  27 , correctly_predicted:  0\n",
      "total test_samples 102  of  Mangostan\n",
      "main category:  Mangostan , total_different_types:  22 , correctly_predicted:  6\n",
      "total test_samples 158  of  Tomato not Ripened\n",
      "main category:  Tomato not Ripened , total_different_types:  30 , correctly_predicted:  19\n",
      "total test_samples 163  of  Pineapple Mini\n",
      "main category:  Pineapple Mini , total_different_types:  37 , correctly_predicted:  19\n",
      "total test_samples 99  of  Ginger Root\n",
      "main category:  Ginger Root , total_different_types:  45 , correctly_predicted:  0\n",
      "total test_samples 246  of  Strawberry Wedge\n",
      "main category:  Strawberry Wedge , total_different_types:  47 , correctly_predicted:  0\n",
      "total test_samples 153  of  Chestnut\n",
      "main category:  Chestnut , total_different_types:  55 , correctly_predicted:  0\n",
      "total test_samples 154  of  Blueberry\n",
      "main category:  Blueberry , total_different_types:  16 , correctly_predicted:  0\n",
      "total test_samples 166  of  Limes\n",
      "main category:  Limes , total_different_types:  26 , correctly_predicted:  2\n",
      "total test_samples 152  of  Apple Pink Lady\n",
      "main category:  Apple Pink Lady , total_different_types:  32 , correctly_predicted:  0\n",
      "total test_samples 164  of  Redcurrant\n",
      "main category:  Redcurrant , total_different_types:  26 , correctly_predicted:  2\n",
      "total test_samples 166  of  Huckleberry\n",
      "main category:  Huckleberry , total_different_types:  29 , correctly_predicted:  0\n",
      "total test_samples 234  of  Pepper Orange\n",
      "main category:  Pepper Orange , total_different_types:  44 , correctly_predicted:  5\n",
      "total test_samples 150  of  Potato White\n",
      "main category:  Potato White , total_different_types:  47 , correctly_predicted:  16\n",
      "total test_samples 164  of  Cherry Wax Red\n",
      "main category:  Cherry Wax Red , total_different_types:  5 , correctly_predicted:  0\n",
      "total test_samples 164  of  Peach\n",
      "main category:  Peach , total_different_types:  34 , correctly_predicted:  3\n",
      "total test_samples 166  of  Lemon Meyer\n",
      "main category:  Lemon Meyer , total_different_types:  25 , correctly_predicted:  2\n",
      "total test_samples 151  of  Potato Red Washed\n",
      "main category:  Potato Red Washed , total_different_types:  51 , correctly_predicted:  0\n",
      "total test_samples 166  of  Banana Red\n",
      "main category:  Banana Red , total_different_types:  24 , correctly_predicted:  0\n",
      "total test_samples 166  of  Avocado ripe\n",
      "main category:  Avocado ripe , total_different_types:  46 , correctly_predicted:  2\n",
      "total test_samples 228  of  Tomato Heart\n",
      "main category:  Tomato Heart , total_different_types:  18 , correctly_predicted:  18\n",
      "total test_samples 164  of  Mulberry\n",
      "main category:  Mulberry , total_different_types:  37 , correctly_predicted:  3\n",
      "total test_samples 166  of  Grapefruit Pink\n",
      "main category:  Grapefruit Pink , total_different_types:  19 , correctly_predicted:  3\n",
      "total test_samples 166  of  Mango\n",
      "main category:  Mango , total_different_types:  31 , correctly_predicted:  0\n",
      "total test_samples 246  of  Tomato 1\n",
      "main category:  Tomato 1 , total_different_types:  29 , correctly_predicted:  3\n",
      "total test_samples 166  of  Pineapple\n",
      "main category:  Pineapple , total_different_types:  28 , correctly_predicted:  0\n",
      "total test_samples 164  of  Peach Flat\n",
      "main category:  Peach Flat , total_different_types:  52 , correctly_predicted:  1\n",
      "total test_samples 164  of  Cherry Wax Yellow\n",
      "main category:  Cherry Wax Yellow , total_different_types:  37 , correctly_predicted:  10\n",
      "total test_samples 164  of  Cantaloupe 1\n",
      "main category:  Cantaloupe 1 , total_different_types:  8 , correctly_predicted:  16\n",
      "total test_samples 246  of  Melon Piel de Sapo\n",
      "main category:  Melon Piel de Sapo , total_different_types:  51 , correctly_predicted:  2\n",
      "total test_samples 164  of  Apple Red Yellow 1\n",
      "main category:  Apple Red Yellow 1 , total_different_types:  62 , correctly_predicted:  17\n",
      "total test_samples 150  of  Potato Sweet\n",
      "main category:  Potato Sweet , total_different_types:  51 , correctly_predicted:  46\n",
      "total test_samples 127  of  Tomato Maroon\n",
      "main category:  Tomato Maroon , total_different_types:  21 , correctly_predicted:  0\n",
      "total test_samples 218  of  Nut Forest\n",
      "main category:  Nut Forest , total_different_types:  12 , correctly_predicted:  16\n",
      "total test_samples 166  of  Tangelo\n",
      "main category:  Tangelo , total_different_types:  19 , correctly_predicted:  1\n",
      "total test_samples 158  of  Grape White 4\n",
      "main category:  Grape White 4 , total_different_types:  27 , correctly_predicted:  29\n",
      "total test_samples 164  of  Physalis with Husk\n",
      "main category:  Physalis with Husk , total_different_types:  10 , correctly_predicted:  3\n",
      "total test_samples 164  of  Apricot\n",
      "main category:  Apricot , total_different_types:  40 , correctly_predicted:  0\n",
      "total test_samples 164  of  Apple Red 1\n",
      "main category:  Apple Red 1 , total_different_types:  24 , correctly_predicted:  0\n",
      "total test_samples 164  of  Apple Braeburn\n",
      "main category:  Apple Braeburn , total_different_types:  32 , correctly_predicted:  1\n",
      "total test_samples 143  of  Avocado\n",
      "main category:  Avocado , total_different_types:  37 , correctly_predicted:  1\n",
      "total test_samples 166  of  Carambula\n",
      "main category:  Carambula , total_different_types:  22 , correctly_predicted:  4\n",
      "total test_samples 166  of  Clementine\n",
      "main category:  Clementine , total_different_types:  29 , correctly_predicted:  47\n",
      "total test_samples 157  of  Hazelnut\n",
      "main category:  Hazelnut , total_different_types:  15 , correctly_predicted:  2\n",
      "total test_samples 249  of  Walnut\n",
      "main category:  Walnut , total_different_types:  17 , correctly_predicted:  34\n",
      "total test_samples 162  of  Salak\n",
      "main category:  Salak , total_different_types:  9 , correctly_predicted:  0\n",
      "total test_samples 237  of  Pear Stone\n",
      "main category:  Pear Stone , total_different_types:  53 , correctly_predicted:  8\n",
      "total test_samples 164  of  Pear\n",
      "main category:  Pear , total_different_types:  38 , correctly_predicted:  9\n",
      "total test_samples 164  of  Physalis\n",
      "main category:  Physalis , total_different_types:  16 , correctly_predicted:  0\n",
      "total test_samples 166  of  Tamarillo\n",
      "main category:  Tamarillo , total_different_types:  43 , correctly_predicted:  0\n",
      "total test_samples 150  of  Beetroot\n",
      "main category:  Beetroot , total_different_types:  50 , correctly_predicted:  21\n",
      "total test_samples 164  of  Lemon\n",
      "main category:  Lemon , total_different_types:  15 , correctly_predicted:  0\n",
      "total test_samples 246  of  Cherry 2\n",
      "main category:  Cherry 2 , total_different_types:  31 , correctly_predicted:  9\n",
      "total test_samples 166  of  Lychee\n",
      "main category:  Lychee , total_different_types:  22 , correctly_predicted:  1\n",
      "total test_samples 328  of  Grape Blue\n",
      "main category:  Grape Blue , total_different_types:  10 , correctly_predicted:  9\n",
      "total test_samples 160  of  Orange\n",
      "main category:  Orange , total_different_types:  5 , correctly_predicted:  34\n",
      "total test_samples 166  of  Grape White\n",
      "main category:  Grape White , total_different_types:  14 , correctly_predicted:  2\n",
      "total test_samples 166  of  Granadilla\n",
      "main category:  Granadilla , total_different_types:  9 , correctly_predicted:  0\n",
      "total test_samples 232  of  Pear 2\n",
      "main category:  Pear 2 , total_different_types:  49 , correctly_predicted:  6\n",
      "total test_samples 164  of  Strawberry\n",
      "main category:  Strawberry , total_different_types:  43 , correctly_predicted:  1\n",
      "total test_samples 166  of  Dates\n",
      "main category:  Dates , total_different_types:  19 , correctly_predicted:  0\n",
      "total test_samples 102  of  Pear Kaiser\n",
      "main category:  Pear Kaiser , total_different_types:  31 , correctly_predicted:  0\n",
      "total test_samples 246  of  Peach 2\n",
      "main category:  Peach 2 , total_different_types:  34 , correctly_predicted:  0\n",
      "total test_samples 157  of  Watermelon\n",
      "main category:  Watermelon , total_different_types:  22 , correctly_predicted:  0\n",
      "total test_samples 222  of  Pepper Red\n",
      "main category:  Pepper Red , total_different_types:  29 , correctly_predicted:  7\n",
      "total test_samples 246  of  Tomato 3\n",
      "main category:  Tomato 3 , total_different_types:  49 , correctly_predicted:  2\n",
      "total test_samples 161  of  Apple Golden 3\n",
      "main category:  Apple Golden 3 , total_different_types:  26 , correctly_predicted:  0\n",
      "total test_samples 164  of  Grapefruit White\n",
      "main category:  Grapefruit White , total_different_types:  13 , correctly_predicted:  9\n",
      "total test_samples 150  of  Potato Red\n",
      "main category:  Potato Red , total_different_types:  47 , correctly_predicted:  5\n",
      "total test_samples 130  of  Cucumber Ripe\n",
      "main category:  Cucumber Ripe , total_different_types:  43 , correctly_predicted:  3\n",
      "total test_samples 166  of  Pitahaya Red\n",
      "main category:  Pitahaya Red , total_different_types:  21 , correctly_predicted:  0\n",
      "total test_samples 166  of  Maracuja\n",
      "main category:  Maracuja , total_different_types:  29 , correctly_predicted:  8\n",
      "total test_samples 222  of  Pepper Yellow\n",
      "main category:  Pepper Yellow , total_different_types:  44 , correctly_predicted:  9\n",
      "total test_samples 234  of  Fig\n",
      "main category:  Fig , total_different_types:  50 , correctly_predicted:  0\n",
      "total test_samples 150  of  Corn\n",
      "main category:  Corn , total_different_types:  41 , correctly_predicted:  49\n",
      "total test_samples 166  of  Guava\n",
      "main category:  Guava , total_different_types:  25 , correctly_predicted:  0\n",
      "total test_samples 166  of  Mandarine\n",
      "main category:  Mandarine , total_different_types:  27 , correctly_predicted:  4\n",
      "total test_samples 225  of  Tomato 2\n",
      "main category:  Tomato 2 , total_different_types:  42 , correctly_predicted:  2\n",
      "total test_samples 142  of  Plum 2\n",
      "main category:  Plum 2 , total_different_types:  13 , correctly_predicted:  14\n",
      "total test_samples 166  of  Pear Abate\n",
      "main category:  Pear Abate , total_different_types:  30 , correctly_predicted:  0\n",
      "total test_samples 166  of  Grape White 2\n",
      "main category:  Grape White 2 , total_different_types:  13 , correctly_predicted:  0\n",
      "total test_samples 164  of  Grape White 3\n",
      "main category:  Grape White 3 , total_different_types:  22 , correctly_predicted:  0\n",
      "total test_samples 164  of  Cherry Wax Black\n",
      "main category:  Cherry Wax Black , total_different_types:  4 , correctly_predicted:  29\n",
      "total test_samples 164  of  Tomato Cherry Red\n",
      "main category:  Tomato Cherry Red , total_different_types:  17 , correctly_predicted:  0\n",
      "total test_samples 166  of  Cactus fruit\n",
      "main category:  Cactus fruit , total_different_types:  18 , correctly_predicted:  2\n",
      "total test_samples 152  of  Banana Lady Finger\n",
      "main category:  Banana Lady Finger , total_different_types:  5 , correctly_predicted:  6\n",
      "total test_samples 160  of  Apple Golden 1\n",
      "main category:  Apple Golden 1 , total_different_types:  23 , correctly_predicted:  15\n",
      "total test_samples 219  of  Apple Red Yellow 2\n",
      "main category:  Apple Red Yellow 2 , total_different_types:  53 , correctly_predicted:  2\n",
      "total test_samples 166  of  Banana\n",
      "main category:  Banana , total_different_types:  13 , correctly_predicted:  15\n",
      "total test_samples 153  of  Tomato Yellow\n",
      "main category:  Tomato Yellow , total_different_types:  31 , correctly_predicted:  2\n",
      "total test_samples 142  of  Mango Red\n",
      "main category:  Mango Red , total_different_types:  18 , correctly_predicted:  4\n",
      "total test_samples 148  of  Pepper Green\n",
      "main category:  Pepper Green , total_different_types:  19 , correctly_predicted:  24\n",
      "total test_samples 166  of  Pear Williams\n",
      "main category:  Pear Williams , total_different_types:  8 , correctly_predicted:  0\n",
      "total test_samples 164  of  Cantaloupe 2\n",
      "main category:  Cantaloupe 2 , total_different_types:  10 , correctly_predicted:  0\n",
      "total test_samples 156  of  Eggplant\n",
      "main category:  Eggplant , total_different_types:  61 , correctly_predicted:  9\n",
      "total test_samples 148  of  Apple Crimson Snow\n",
      "main category:  Apple Crimson Snow , total_different_types:  18 , correctly_predicted:  7\n",
      "total test_samples 166  of  Pear Monster\n",
      "main category:  Pear Monster , total_different_types:  18 , correctly_predicted:  0\n",
      "total test_samples 150  of  Onion Red\n",
      "main category:  Onion Red , total_different_types:  39 , correctly_predicted:  0\n",
      "total test_samples 151  of  Plum\n",
      "main category:  Plum , total_different_types:  13 , correctly_predicted:  10\n",
      "total test_samples 234  of  Pear Forelle\n",
      "main category:  Pear Forelle , total_different_types:  51 , correctly_predicted:  3\n"
     ]
    }
   ],
   "source": [
    "from collections import Counter\n",
    "for cat, val in fla.items():\n",
    "    print(\"total test_samples\", len(val), \" of \", cat)\n",
    "    myCounter = Counter(val)\n",
    "    x = list(myCounter.items())\n",
    "    print(\"main category: \", cat, \", total_different_types: \",\n",
    "          len(x), \", correctly_predicted: \", myCounter[cat])\n",
    "    # break\n"
   ]
  }
 ],
 "metadata": {
  "interpreter": {
   "hash": "916dbcbb3f70747c44a77c7bcd40155683ae19c65e1c03b4aa3499c5328201f1"
  },
  "kernelspec": {
   "display_name": "Python 3.8.10 64-bit",
   "language": "python",
   "name": "python3"
  },
  "language_info": {
   "codemirror_mode": {
    "name": "ipython",
    "version": 3
   },
   "file_extension": ".py",
   "mimetype": "text/x-python",
   "name": "python",
   "nbconvert_exporter": "python",
   "pygments_lexer": "ipython3",
   "version": "3.8.10"
  },
  "orig_nbformat": 4
 },
 "nbformat": 4,
 "nbformat_minor": 2
}
