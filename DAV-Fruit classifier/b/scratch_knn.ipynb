{
 "cells": [
  {
   "cell_type": "code",
   "execution_count": null,
   "metadata": {},
   "outputs": [],
   "source": [
    "import os\n",
    "import cv2\n",
    "import numpy as np\n",
    "\n",
    "rawImages = [] # this refers to normal image flattening\n",
    "features = [] # this refers to histogram flattening\n",
    "labels = [] # labels are stored in labels\n",
    "\n",
    "# flattening the image to one dimensional vector\n",
    "def flatten_img(image):\n",
    "    return image.flatten()\n",
    "\n",
    "# calculating hist form openCV\n",
    "def calc_histogram(image, bins=(8, 8, 8)):\n",
    "    # we extract hist form hsv image\n",
    "    hsv = cv2.cvtColor(image, cv2.COLOR_BGR2HSV)\n",
    "    hist = cv2.calcHist([hsv], [0, 1, 2], None, bins,\n",
    "                        [0, 180, 0, 256, 0, 256])\n",
    "    cv2.normalize(hist, hist)\n",
    "    return np.array(hist.flatten())\n",
    "\n",
    "\n",
    "# traversing through training folder and getting path references\n",
    "folder_url = \"/home/yaadava_kishore/Desktop/Data_Analytics_1_b/Fruit-Images-Dataset/Training\"\n",
    "files_list = {}\n",
    "for i in os.listdir(folder_url):\n",
    "    files_list[f\"{os.path.join(folder_url,i)}\"] = os.listdir(\n",
    "        os.path.join(folder_url, i))\n",
    "\n",
    "# for every image calculating feature vectors\n",
    "for dir_path, files in files_list.items():\n",
    "    label = dir_path.split(\"/\")[-1]\n",
    "    final_bare_img = np.zeros(30000)\n",
    "    final_hist_img = np.zeros(512)\n",
    "    total_imgs = len(files)\n",
    "    for file in files:\n",
    "        # for reading the image ,opencv(cv2) module is used.\n",
    "        img = cv2.imread(os.path.join(dir_path, file))\n",
    "        pixels = flatten_img(img)\n",
    "        final_bare_img += pixels\n",
    "        hist = calc_histogram(img)\n",
    "        final_hist_img += hist\n",
    "    final_hist_img = final_hist_img/total_imgs\n",
    "    final_bare_img = final_bare_img/total_imgs\n",
    "    rawImages.append(final_bare_img)\n",
    "    features.append(final_hist_img)\n",
    "    labels.append(label)\n",
    "    print(label, \" \", total_imgs)\n",
    "    # print(f'{label} data is processed')\n",
    "\n",
    "rawImages = np.array(rawImages)\n",
    "features = np.array(features)\n",
    "labels = np.array(labels)\n"
   ]
  },
  {
   "cell_type": "code",
   "execution_count": null,
   "metadata": {},
   "outputs": [],
   "source": [
    "test_raw_images = []\n",
    "test_features = []\n",
    "test_labels = []\n",
    "\n",
    "# traversing through training folder and getting path references\n",
    "folder_url = \"/home/yaadava_kishore/Desktop/Data_Analytics_1_b/Fruit-Images-Dataset/Test\"\n",
    "files_list = {}\n",
    "for i in os.listdir(folder_url):\n",
    "    files_list[f\"{os.path.join(folder_url,i)}\"] = os.listdir(\n",
    "        os.path.join(folder_url, i))\n",
    "\n",
    "# flattenig every image and summing all flattening values\n",
    "for dir_path, files in files_list.items():\n",
    "    label = dir_path.split(\"/\")[-1]\n",
    "    final_bare_img = np.zeros(30000)\n",
    "    final_hist_img = np.zeros(512)\n",
    "    total_imgs = len(files)\n",
    "    for file in files:\n",
    "        # for reading the image ,opencv(cv2) module is used.\n",
    "        img = cv2.imread(os.path.join(dir_path, file))\n",
    "        pixels = flatten_img(img)\n",
    "        final_bare_img += pixels\n",
    "        hist = calc_histogram(img)\n",
    "        final_hist_img += hist\n",
    "        # rawImages.append(pixels)\n",
    "        # features.append(hist)\n",
    "    final_hist_img = final_hist_img/total_imgs\n",
    "    final_bare_img = final_bare_img/total_imgs\n",
    "    test_raw_images.append(final_bare_img)\n",
    "    test_features.append(final_hist_img)\n",
    "    test_labels.append(label)\n",
    "    print(label, \" \", total_imgs)\n",
    "    # print(f'{label} data is processed')\n",
    "\n",
    "test_raw_images = np.array(test_raw_images)\n",
    "test_features = np.array(test_features)\n",
    "test_labels = np.array(test_labels)"
   ]
  },
  {
   "cell_type": "code",
   "execution_count": 22,
   "metadata": {},
   "outputs": [],
   "source": [
    "#### KNN classifier class ####\n",
    "# very structured(sklearn style) and class based code for knn from scratch is taken from this url:\n",
    "# https://github.com/python-engineer/MLfromscratch/blob/master/mlfromscratch/knn.py\n",
    "\n",
    "from collections import Counter\n",
    "import numpy as np\n",
    "\n",
    "# def manhattan_distance(x1, x2):\n",
    "#     return sum(abs(x1-x2))\n",
    "\n",
    "# from scipy.spatial.distance import euclidean\n",
    "# dist = euclidean_distance(x1, x2)\n",
    "def euclidean_distance(x1, x2):\n",
    "    return np.sqrt(np.sum((x1 - x2) ** 2))\n",
    "\n",
    "\n",
    "class KNN:\n",
    "    def __init__(self, k=3):\n",
    "        self.k = k\n",
    "\n",
    "    def fit(self, X, y):\n",
    "        self.X_train = X\n",
    "        self.y_train = y\n",
    "\n",
    "    def predict(self, X):\n",
    "        y_pred = [self._predict(x) for x in X]\n",
    "        return np.array(y_pred)\n",
    "\n",
    "    def _predict(self, x):\n",
    "        # Compute distances between x and all examples in the training set\n",
    "        distances = [euclidean_distance(x, x_train)\n",
    "                     for x_train in self.X_train]\n",
    "        # Sort by distance and return indices of the first k neighbors\n",
    "        k_idx = np.argsort(distances)[: self.k]\n",
    "        # Extract the labels of the k nearest neighbor training samples\n",
    "        k_neighbor_labels = [self.y_train[i] for i in k_idx]\n",
    "        # return the most common class label\n",
    "        most_common = Counter(k_neighbor_labels).most_common(1)\n",
    "        return most_common[0][0]\n",
    "\n",
    "\n",
    "def accuracy(y_true, y_pred):\n",
    "    accuracy = np.sum(y_true == y_pred) / len(y_true)\n",
    "    return accuracy*100\n"
   ]
  },
  {
   "cell_type": "code",
   "execution_count": 23,
   "metadata": {},
   "outputs": [],
   "source": [
    "X, y = rawImages, labels\n",
    "\n",
    "k = 10\n",
    "clf_raw = KNN(k=k)\n",
    "clf_raw.fit(X, y)"
   ]
  },
  {
   "cell_type": "code",
   "execution_count": 24,
   "metadata": {},
   "outputs": [
    {
     "name": "stdout",
     "output_type": "stream",
     "text": [
      "KNN classification accuracy of raw Images 73.2824427480916\n"
     ]
    }
   ],
   "source": [
    "predictions = clf_raw.predict(test_raw_images)\n",
    "print(\"KNN classification accuracy of raw Images\", accuracy(test_labels, predictions))"
   ]
  },
  {
   "cell_type": "code",
   "execution_count": 25,
   "metadata": {},
   "outputs": [],
   "source": [
    "X, y = features, labels\n",
    "\n",
    "k = 10\n",
    "clf_hist = KNN(k=k)\n",
    "clf_hist.fit(X, y)"
   ]
  },
  {
   "cell_type": "code",
   "execution_count": 26,
   "metadata": {},
   "outputs": [
    {
     "name": "stdout",
     "output_type": "stream",
     "text": [
      "KNN classification accuracy of raw Images 94.65648854961832\n"
     ]
    }
   ],
   "source": [
    "predictions = clf_hist.predict(test_features)\n",
    "print(\"KNN classification accuracy of raw Images\", accuracy(test_labels, predictions))"
   ]
  }
 ],
 "metadata": {
  "interpreter": {
   "hash": "916dbcbb3f70747c44a77c7bcd40155683ae19c65e1c03b4aa3499c5328201f1"
  },
  "kernelspec": {
   "display_name": "Python 3.8.10 64-bit",
   "language": "python",
   "name": "python3"
  },
  "language_info": {
   "codemirror_mode": {
    "name": "ipython",
    "version": 3
   },
   "file_extension": ".py",
   "mimetype": "text/x-python",
   "name": "python",
   "nbconvert_exporter": "python",
   "pygments_lexer": "ipython3",
   "version": "3.8.10"
  },
  "orig_nbformat": 4
 },
 "nbformat": 4,
 "nbformat_minor": 2
}
