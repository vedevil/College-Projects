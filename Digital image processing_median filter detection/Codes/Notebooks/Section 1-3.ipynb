{
 "cells": [
  {
   "cell_type": "code",
   "execution_count": 1,
   "metadata": {},
   "outputs": [],
   "source": [
    "import numpy\n",
    "from PIL import Image"
   ]
  },
  {
   "cell_type": "code",
   "execution_count": 6,
   "metadata": {},
   "outputs": [],
   "source": [
    "\n",
    "def median_filter(data, filter_size):\n",
    "    temp = []\n",
    "    indexer = filter_size // 2\n",
    "    data_final = []\n",
    "    data_final = numpy.zeros((len(data),len(data[0])))\n",
    "    for i in range(len(data)):\n",
    "\n",
    "        for j in range(len(data[0])):\n",
    "\n",
    "            for z in range(filter_size):\n",
    "                if i + z - indexer < 0 or i + z - indexer > len(data) - 1:\n",
    "                    for c in range(filter_size):\n",
    "                        temp.append(0)\n",
    "                else:\n",
    "                    if j + z - indexer < 0 or j + indexer > len(data[0]) - 1:\n",
    "                        temp.append(0)\n",
    "                    else:\n",
    "                        for k in range(filter_size):\n",
    "                            temp.append(data[i + z - indexer][j + k - indexer])\n",
    "\n",
    "            temp.sort()\n",
    "            data_final[i][j] = temp[len(temp) // 2]\n",
    "            temp = []\n",
    "    return data_final\n"
   ]
  },
  {
   "cell_type": "code",
   "execution_count": 7,
   "metadata": {},
   "outputs": [],
   "source": [
    "def mfr (data, filter_size):\n",
    "    temp = []\n",
    "    indexer = filter_size // 2\n",
    "    data_final = []\n",
    "    data_final = numpy.zeros((len(data),len(data[0])))\n",
    "    for i in range(len(data)):\n",
    "\n",
    "        for j in range(len(data[0])):\n",
    "\n",
    "            for z in range(filter_size):\n",
    "                if i + z - indexer < 0 or i + z - indexer > len(data) - 1:\n",
    "                    for c in range(filter_size):\n",
    "                        temp.append(0)\n",
    "                else:\n",
    "                    if j + z - indexer < 0 or j + indexer > len(data[0]) - 1:\n",
    "                        temp.append(0)\n",
    "                    else:\n",
    "                        for k in range(filter_size):\n",
    "                            temp.append(data[i + z - indexer][j + k - indexer])\n",
    "\n",
    "            temp.sort()\n",
    "            data_final[i][j] = data[i][j] - temp[len(temp) // 2]\n",
    "            v= int(data[i][j] - temp[len(temp) // 2])\n",
    "            temp = []\n",
    "    return data_final"
   ]
  },
  {
   "cell_type": "code",
   "execution_count": 8,
   "metadata": {},
   "outputs": [],
   "source": [
    "def distinct_residual_block(data, filter_size):\n",
    "    temp = []\n",
    "    indexer = filter_size // 2\n",
    "    data_final = {\"1\":0,\"2\":0,\"3\":0,\"4\":0,\"5\":0,\"6\":0,\"7\":0,\"8\":0,\"9\":0}\n",
    "    for i in range(indexer,len(data)-indexer):\n",
    "\n",
    "        for j in range(indexer,len(data[0])-indexer):\n",
    "            for y in range(-indexer,indexer+1):\n",
    "                for z in range(-indexer,indexer+1):\n",
    "                    temp.append(data[i+y][j+z])\n",
    "            window_element=set(temp)\n",
    "            l=len(window_element)\n",
    "            data_final[str(l)]+=1\n",
    "            temp=[]\n",
    "    return data_final"
   ]
  },
  {
   "cell_type": "markdown",
   "metadata": {},
   "source": [
    "# Median filter of an original image "
   ]
  },
  {
   "cell_type": "code",
   "execution_count": 9,
   "metadata": {},
   "outputs": [],
   "source": [
    "img = Image.open(\"orgimg.tif\").convert(\"L\")\n",
    "arr = numpy.array(img)\n",
    "removed_noise = median_filter(arr, 3) \n",
    "img = Image.fromarray(removed_noise)\n",
    "img=img.convert('L')\n",
    "img.save(\"medianfiltered.tif\")\n",
    "img.show()"
   ]
  },
  {
   "cell_type": "markdown",
   "metadata": {},
   "source": [
    "# MFR of original image"
   ]
  },
  {
   "cell_type": "code",
   "execution_count": 10,
   "metadata": {},
   "outputs": [
    {
     "name": "stderr",
     "output_type": "stream",
     "text": [
      "<ipython-input-7-a484135369f6>:22: RuntimeWarning: overflow encountered in ubyte_scalars\n",
      "  data_final[i][j] = data[i][j] - temp[len(temp) // 2]\n",
      "<ipython-input-7-a484135369f6>:23: RuntimeWarning: overflow encountered in ubyte_scalars\n",
      "  v= int(data[i][j] - temp[len(temp) // 2])\n"
     ]
    }
   ],
   "source": [
    "mfr_orig = mfr (arr, 3) \n",
    "img = Image.fromarray(mfr_orig)\n",
    "img=img.convert('L')\n",
    "img.save(\"mfr_orig.tif\")\n",
    "img.show()"
   ]
  },
  {
   "cell_type": "markdown",
   "metadata": {},
   "source": [
    "# MFR of Median fitered image"
   ]
  },
  {
   "cell_type": "code",
   "execution_count": 11,
   "metadata": {},
   "outputs": [
    {
     "name": "stderr",
     "output_type": "stream",
     "text": [
      "<ipython-input-7-a484135369f6>:22: RuntimeWarning: overflow encountered in ubyte_scalars\n",
      "  data_final[i][j] = data[i][j] - temp[len(temp) // 2]\n",
      "<ipython-input-7-a484135369f6>:23: RuntimeWarning: overflow encountered in ubyte_scalars\n",
      "  v= int(data[i][j] - temp[len(temp) // 2])\n"
     ]
    }
   ],
   "source": [
    "img = Image.open(\"medianfiltered.tif\").convert(\"L\")\n",
    "arr = numpy.array(img)\n",
    "mfr_mf = mfr (arr, 3) \n",
    "img = Image.fromarray(mfr_mf)\n",
    "img=img.convert('L')\n",
    "img.save(\"mfr_mf.tif\")\n",
    "img.show()"
   ]
  },
  {
   "cell_type": "markdown",
   "metadata": {},
   "source": [
    "# Distinct residual block calculation"
   ]
  },
  {
   "cell_type": "markdown",
   "metadata": {},
   "source": [
    "# Original"
   ]
  },
  {
   "cell_type": "code",
   "execution_count": 14,
   "metadata": {},
   "outputs": [
    {
     "name": "stdout",
     "output_type": "stream",
     "text": [
      "{'1': 4.190021558361565, '2': 5.655476850426035, '3': 2.8025870033877425, '4': 4.947643979057592, '5': 10.21661020429114, '6': 14.198747561851967, '7': 16.96181090237142, '8': 20.14372241043014, '9': 20.8833795298224}\n"
     ]
    }
   ],
   "source": [
    "img = Image.open(\"orgimg.tif\").convert(\"L\")\n",
    "arr = numpy.array(img)\n",
    "drbarr = distinct_residual_block(arr, 3)\n",
    "total= sum(drbarr.values())\n",
    "for key in drbarr:\n",
    "    drbarr[key]=(drbarr[key]*100)/total\n",
    "print(drbarr)"
   ]
  },
  {
   "cell_type": "markdown",
   "metadata": {},
   "source": [
    "# MFR of original"
   ]
  },
  {
   "cell_type": "code",
   "execution_count": 15,
   "metadata": {},
   "outputs": [
    {
     "name": "stdout",
     "output_type": "stream",
     "text": [
      "{'1': 4.29781336618417, '2': 4.217739451801663, '3': 6.428498100811005, '4': 9.650959860383944, '5': 15.233548916948978, '6': 17.319577045477878, '7': 17.164562159942513, '8': 15.485063135201724, '9': 10.202237963248127}\n"
     ]
    }
   ],
   "source": [
    "img = Image.open(\"mfr_orig.tif\").convert(\"L\")\n",
    "arr = numpy.array(img)\n",
    "drbarr = distinct_residual_block(arr, 3)\n",
    "total= sum(drbarr.values())\n",
    "for key in drbarr:\n",
    "    drbarr[key]=(drbarr[key]*100)/total\n",
    "print(drbarr)"
   ]
  },
  {
   "cell_type": "markdown",
   "metadata": {},
   "source": [
    "# MFR of median filtered image(window size 3x3)"
   ]
  },
  {
   "cell_type": "code",
   "execution_count": 17,
   "metadata": {},
   "outputs": [
    {
     "name": "stdout",
     "output_type": "stream",
     "text": [
      "{'1': 14.700749409711529, '2': 21.47212811826301, '3': 24.90658043322041, '4': 17.05523046915101, '5': 11.143106457242583, '6': 6.604044759264963, '7': 2.930397289805975, '8': 0.9778256852479211, '9': 0.2099373780925983}\n"
     ]
    }
   ],
   "source": [
    "img = Image.open(\"mfr_mf.tif\").convert(\"L\")\n",
    "arr = numpy.array(img)\n",
    "drbarr = distinct_residual_block(arr, 3)\n",
    "total= sum(drbarr.values())\n",
    "for key in drbarr:\n",
    "    drbarr[key]=(drbarr[key]*100)/total\n",
    "print(drbarr)"
   ]
  },
  {
   "cell_type": "markdown",
   "metadata": {},
   "source": [
    "# MFR of median filtered image(window size 5x5)"
   ]
  },
  {
   "cell_type": "code",
   "execution_count": 21,
   "metadata": {},
   "outputs": [
    {
     "name": "stdout",
     "output_type": "stream",
     "text": [
      "{'1': 10.922389898367724, '2': 15.938302022379633, '3': 16.971563494507752, '4': 15.471204188481675, '5': 14.377887280566677, '6': 12.51924853711118, '7': 8.843034596037368, '8': 4.055025151421825, '9': 0.9013448311261677}\n"
     ]
    }
   ],
   "source": [
    "img = Image.open(\"orgimg.tif\").convert(\"L\")\n",
    "arr = numpy.array(img)\n",
    "arr = median_filter(arr, 5)\n",
    "drbarr = distinct_residual_block(arr, 3)\n",
    "total= sum(drbarr.values())\n",
    "for key in drbarr:\n",
    "    drbarr[key]=(drbarr[key]*100)/total\n",
    "print(drbarr)\n"
   ]
  }
 ],
 "metadata": {
  "kernelspec": {
   "display_name": "Python 3",
   "language": "python",
   "name": "python3"
  },
  "language_info": {
   "codemirror_mode": {
    "name": "ipython",
    "version": 3
   },
   "file_extension": ".py",
   "mimetype": "text/x-python",
   "name": "python",
   "nbconvert_exporter": "python",
   "pygments_lexer": "ipython3",
   "version": "3.8.3"
  }
 },
 "nbformat": 4,
 "nbformat_minor": 4
}
