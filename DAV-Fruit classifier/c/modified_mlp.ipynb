{
  "cells": [
    {
      "cell_type": "markdown",
      "metadata": {},
      "source": [
        "##### **(This model is trained on google colab)**\n",
        "\n",
        "#### **This is a modified version of the starter template code provided.**\n",
        "1. For better accuracy improvements like more dense layers with more perceptrons are added.\n",
        "2. We also included Normalization layers and Dropout layers for faster calculations and regularization.\n",
        "3. With this we achieved almost 90% acccuracy with test dataset.\n",
        "\n",
        "#### **For image loading we used ImageDataGenerator class from keras.**"
      ]
    },
    {
      "cell_type": "code",
      "execution_count": 1,
      "metadata": {
        "colab": {
          "base_uri": "https://localhost:8080/"
        },
        "id": "ZCUsz6V5AWVA",
        "outputId": "775b5bff-a761-40cf-ee14-913d42a3caa8"
      },
      "outputs": [
        {
          "name": "stdout",
          "output_type": "stream",
          "text": [
            "Mounted at /content/gdrive\n"
          ]
        }
      ],
      "source": [
        "# mount the google drive\n",
        "from google.colab import drive\n",
        "drive.mount('/content/gdrive')"
      ]
    },
    {
      "cell_type": "code",
      "execution_count": 2,
      "metadata": {
        "id": "bHhEX-wyAQYH"
      },
      "outputs": [],
      "source": [
        "!cp -Rf /content/gdrive/MyDrive/mlp.zip /content/"
      ]
    },
    {
      "cell_type": "code",
      "execution_count": null,
      "metadata": {
        "id": "O6RwNjUZAQ99"
      },
      "outputs": [],
      "source": [
        "!unzip /content/mlp.zip"
      ]
    },
    {
      "cell_type": "code",
      "execution_count": 4,
      "metadata": {
        "id": "sanqj8YTXe79"
      },
      "outputs": [],
      "source": [
        "from tensorflow import keras\n",
        "from tensorflow.keras.optimizers import Adam\n",
        "from tensorflow.keras.preprocessing.image import ImageDataGenerator\n"
      ]
    },
    {
      "cell_type": "code",
      "execution_count": 13,
      "metadata": {
        "colab": {
          "base_uri": "https://localhost:8080/"
        },
        "id": "FDViwpniXrDM",
        "outputId": "ab0dda53-4ca3-4f10-b086-c01a12c3f377"
      },
      "outputs": [
        {
          "name": "stdout",
          "output_type": "stream",
          "text": [
            "Found 67692 images belonging to 131 classes.\n"
          ]
        }
      ],
      "source": [
        "image_generator = ImageDataGenerator(rescale=1/255)\n",
        "dir_folder = \"/content/mlp/data/train\"\n",
        "batchSize = 32\n",
        "n_epochs = 10\n",
        "train_dataset = image_generator.flow_from_directory(batch_size=32,\n",
        "                                                    directory=dir_folder,\n",
        "                                                    shuffle=True,\n",
        "                                                    target_size=(100, 100),\n",
        "                                                    subset=\"training\",\n",
        "                                                    class_mode='categorical')\n",
        "\n",
        "# validation_dataset = image_generator.flow_from_directory(batch_size=32,\n",
        "#                                                          directory=dir_folder,\n",
        "#                                                          shuffle=True,\n",
        "#                                                          target_size=(\n",
        "#                                                              100, 100),\n",
        "#                                                          subset=\"validation\",\n",
        "#                                                          class_mode='categorical')\n"
      ]
    },
    {
      "cell_type": "code",
      "execution_count": 14,
      "metadata": {
        "colab": {
          "base_uri": "https://localhost:8080/"
        },
        "id": "lt_JAV_GXtvs",
        "outputId": "c59267df-4bd9-4f26-8e6c-aa5ac295bdef"
      },
      "outputs": [
        {
          "name": "stderr",
          "output_type": "stream",
          "text": [
            "/usr/local/lib/python3.7/dist-packages/keras/optimizer_v2/adam.py:105: UserWarning: The `lr` argument is deprecated, use `learning_rate` instead.\n",
            "  super(Adam, self).__init__(name, **kwargs)\n"
          ]
        }
      ],
      "source": [
        "model_ann = keras.Sequential([keras.layers.Flatten(input_shape=((100, 100, 3))),\n",
        "                              # Use appropriate values\n",
        "                              keras.layers.Dense(512, input_shape=(\n",
        "                                  30000,), activation='relu'),\n",
        "                              keras.layers.BatchNormalization(),\n",
        "                              keras.layers.Dropout(0.2),\n",
        "                              keras.layers.Dense(256, activation='relu'),\n",
        "                              keras.layers.BatchNormalization(),\n",
        "                              keras.layers.Dropout(0.2),\n",
        "                              keras.layers.Dense(256, activation='relu'),\n",
        "                              keras.layers.BatchNormalization(),\n",
        "                              keras.layers.Dropout(0.2),\n",
        "                              keras.layers.Dense(128, activation='relu'),\n",
        "                              keras.layers.BatchNormalization(),\n",
        "                              keras.layers.Dense(131, activation='softmax')])  # 131 is no. of dimensions in the output layer\n",
        "\n",
        "# Use the appropriate optimizer (gradient descent), loss function and metrics for evaluating classification accuracy\n",
        "model_ann.compile(optimizer=Adam(lr=0.001),\n",
        "                  loss='categorical_crossentropy', metrics=['accuracy'])"
      ]
    },
    {
      "cell_type": "code",
      "execution_count": 15,
      "metadata": {
        "colab": {
          "base_uri": "https://localhost:8080/"
        },
        "id": "hU8Tke3UXypI",
        "outputId": "feb5b0fe-03a7-4593-f864-92347bb2cf14"
      },
      "outputs": [
        {
          "name": "stdout",
          "output_type": "stream",
          "text": [
            "Model: \"sequential_1\"\n",
            "_________________________________________________________________\n",
            " Layer (type)                Output Shape              Param #   \n",
            "=================================================================\n",
            " flatten_1 (Flatten)         (None, 30000)             0         \n",
            "                                                                 \n",
            " dense_5 (Dense)             (None, 512)               15360512  \n",
            "                                                                 \n",
            " batch_normalization_4 (Batc  (None, 512)              2048      \n",
            " hNormalization)                                                 \n",
            "                                                                 \n",
            " dropout_3 (Dropout)         (None, 512)               0         \n",
            "                                                                 \n",
            " dense_6 (Dense)             (None, 256)               131328    \n",
            "                                                                 \n",
            " batch_normalization_5 (Batc  (None, 256)              1024      \n",
            " hNormalization)                                                 \n",
            "                                                                 \n",
            " dropout_4 (Dropout)         (None, 256)               0         \n",
            "                                                                 \n",
            " dense_7 (Dense)             (None, 256)               65792     \n",
            "                                                                 \n",
            " batch_normalization_6 (Batc  (None, 256)              1024      \n",
            " hNormalization)                                                 \n",
            "                                                                 \n",
            " dropout_5 (Dropout)         (None, 256)               0         \n",
            "                                                                 \n",
            " dense_8 (Dense)             (None, 128)               32896     \n",
            "                                                                 \n",
            " batch_normalization_7 (Batc  (None, 128)              512       \n",
            " hNormalization)                                                 \n",
            "                                                                 \n",
            " dense_9 (Dense)             (None, 131)               16899     \n",
            "                                                                 \n",
            "=================================================================\n",
            "Total params: 15,612,035\n",
            "Trainable params: 15,609,731\n",
            "Non-trainable params: 2,304\n",
            "_________________________________________________________________\n"
          ]
        }
      ],
      "source": [
        "model_ann.summary()"
      ]
    },
    {
      "cell_type": "code",
      "execution_count": 16,
      "metadata": {
        "colab": {
          "base_uri": "https://localhost:8080/"
        },
        "id": "wh-BNR5uXzeq",
        "outputId": "5a042bf1-1cb5-41fe-96b7-7be192a14885"
      },
      "outputs": [
        {
          "name": "stderr",
          "output_type": "stream",
          "text": [
            "/usr/local/lib/python3.7/dist-packages/ipykernel_launcher.py:6: UserWarning: `Model.fit_generator` is deprecated and will be removed in a future version. Please use `Model.fit`, which supports generators.\n",
            "  \n"
          ]
        },
        {
          "name": "stdout",
          "output_type": "stream",
          "text": [
            "Epoch 1/10\n",
            "2115/2115 [==============================] - 65s 30ms/step - loss: 1.0211 - accuracy: 0.7295\n",
            "Epoch 2/10\n",
            "2115/2115 [==============================] - 64s 30ms/step - loss: 0.2959 - accuracy: 0.9052\n",
            "Epoch 3/10\n",
            "2115/2115 [==============================] - 63s 30ms/step - loss: 0.2140 - accuracy: 0.9295\n",
            "Epoch 4/10\n",
            "2115/2115 [==============================] - 62s 30ms/step - loss: 0.1714 - accuracy: 0.9431\n",
            "Epoch 5/10\n",
            "2115/2115 [==============================] - 63s 30ms/step - loss: 0.1456 - accuracy: 0.9514\n",
            "Epoch 6/10\n",
            "2115/2115 [==============================] - 65s 31ms/step - loss: 0.1304 - accuracy: 0.9566\n",
            "Epoch 7/10\n",
            "2115/2115 [==============================] - 63s 30ms/step - loss: 0.1124 - accuracy: 0.9625\n",
            "Epoch 8/10\n",
            "2115/2115 [==============================] - 64s 30ms/step - loss: 0.0994 - accuracy: 0.9671\n",
            "Epoch 9/10\n",
            "2115/2115 [==============================] - 63s 30ms/step - loss: 0.0971 - accuracy: 0.9679\n",
            "Epoch 10/10\n",
            "2115/2115 [==============================] - 63s 30ms/step - loss: 0.0923 - accuracy: 0.9689\n"
          ]
        },
        {
          "data": {
            "text/plain": [
              "<keras.callbacks.History at 0x7f529031aa90>"
            ]
          },
          "execution_count": 16,
          "metadata": {},
          "output_type": "execute_result"
        }
      ],
      "source": [
        "model_ann.fit_generator(\n",
        "    train_dataset,\n",
        "    steps_per_epoch=train_dataset.samples // batchSize,\n",
        "    # validation_data=validation_dataset,\n",
        "    # validation_steps=validation_dataset.samples // batchSize,\n",
        "    epochs=n_epochs)"
      ]
    },
    {
      "cell_type": "code",
      "execution_count": 9,
      "metadata": {
        "colab": {
          "base_uri": "https://localhost:8080/"
        },
        "id": "fRxa4TtvfUQ3",
        "outputId": "29c2f025-8397-4d06-aff5-f648a90c5f01"
      },
      "outputs": [
        {
          "name": "stdout",
          "output_type": "stream",
          "text": [
            "Found 22688 images belonging to 131 classes.\n"
          ]
        }
      ],
      "source": [
        "test_datagen = ImageDataGenerator(rescale=1./255)\n",
        "\n",
        "test_generator = test_datagen.flow_from_directory(\n",
        "        '/content/mlp/data/test',\n",
        "        target_size=(100, 100),\n",
        "        color_mode=\"rgb\",\n",
        "        shuffle = False,\n",
        "        class_mode='categorical',\n",
        "        batch_size=1)\n"
      ]
    },
    {
      "cell_type": "code",
      "execution_count": 10,
      "metadata": {
        "id": "WLBS19XZfbgC"
      },
      "outputs": [],
      "source": [
        "filenames = test_generator.filenames\n",
        "nb_samples = len(filenames)"
      ]
    },
    {
      "cell_type": "code",
      "execution_count": 17,
      "metadata": {
        "colab": {
          "base_uri": "https://localhost:8080/"
        },
        "id": "vb5xaQOdh9Vs",
        "outputId": "0d37dbd7-ad76-4121-a7ad-8f1617e1490c"
      },
      "outputs": [
        {
          "name": "stderr",
          "output_type": "stream",
          "text": [
            "/usr/local/lib/python3.7/dist-packages/ipykernel_launcher.py:1: UserWarning: `Model.evaluate_generator` is deprecated and will be removed in a future version. Please use `Model.evaluate`, which supports generators.\n",
            "  \"\"\"Entry point for launching an IPython kernel.\n"
          ]
        },
        {
          "name": "stdout",
          "output_type": "stream",
          "text": [
            "Accuracy of the model is: 89.91978168487549\n"
          ]
        }
      ],
      "source": [
        "loss, acc= model_ann.evaluate_generator(test_generator, steps=nb_samples, verbose=0)\n",
        "print(f\"Accuracy of the model is: {acc*100}\")"
      ]
    }
  ],
  "metadata": {
    "accelerator": "GPU",
    "colab": {
      "name": "Fruit360.ipynb",
      "provenance": []
    },
    "kernelspec": {
      "display_name": "Python 3",
      "name": "python3"
    },
    "language_info": {
      "name": "python",
      "version": "3.8.10"
    }
  },
  "nbformat": 4,
  "nbformat_minor": 0
}
